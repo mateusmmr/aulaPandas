{
 "cells": [
  {
   "cell_type": "code",
   "execution_count": 1,
   "metadata": {},
   "outputs": [
    {
     "name": "stdout",
     "output_type": "stream",
     "text": [
      "Hello world!\n"
     ]
    }
   ],
   "source": [
    "print(\"Hello world!\")"
   ]
  },
  {
   "cell_type": "markdown",
   "metadata": {},
   "source": [
    "# Iniciando com o Notebook\n",
    "## Apresentando o python no navegador\n",
    "\n",
    "Os passos seguidos foram:\n",
    "* Criar uma pasta de trabalho:\n",
    "```shell\n",
    "mkdir aulaPandas\n",
    "cd aulaPandas\n",
    "```\n",
    "\n",
    "* Criar um ambiente virtual na pasta **.ve** dentro da pasta de trabalho\n",
    "\n",
    "```shell\n",
    "cd aulaPandas\n",
    "python 3 -m venv .ve\n",
    "source .ve/bin/activate\n",
    "\n",
    "\"No windows\":\n",
    ".ve\\Scripts\\activate.bat\n",
    "\n",
    "```\n",
    "* Atualiza o pip\n",
    "```shell\n",
    "pip install --upgrade pip\n",
    "```\n",
    "* Instalar o *notebook* e o ***pandas***\n",
    "```shell\n",
    "pip install notebook\n",
    "pip install pandas\n",
    "```\n",
    "Acesssar:https://www.kaggle.com/nationalparkservice/park-biodiversity\n",
    "## Agora vamos começar!!!!"
   ]
  },
  {
   "cell_type": "code",
   "execution_count": 2,
   "metadata": {},
   "outputs": [],
   "source": [
    "import pandas as pd"
   ]
  },
  {
   "cell_type": "code",
   "execution_count": 4,
   "metadata": {},
   "outputs": [],
   "source": [
    "df = pd.read_csv('./parks.csv', index_col=['Park Code'])"
   ]
  },
  {
   "cell_type": "code",
   "execution_count": 5,
   "metadata": {},
   "outputs": [
    {
     "data": {
      "text/html": [
       "<div>\n",
       "<style scoped>\n",
       "    .dataframe tbody tr th:only-of-type {\n",
       "        vertical-align: middle;\n",
       "    }\n",
       "\n",
       "    .dataframe tbody tr th {\n",
       "        vertical-align: top;\n",
       "    }\n",
       "\n",
       "    .dataframe thead th {\n",
       "        text-align: right;\n",
       "    }\n",
       "</style>\n",
       "<table border=\"1\" class=\"dataframe\">\n",
       "  <thead>\n",
       "    <tr style=\"text-align: right;\">\n",
       "      <th></th>\n",
       "      <th>Park Name</th>\n",
       "      <th>State</th>\n",
       "      <th>Acres</th>\n",
       "      <th>Latitude</th>\n",
       "      <th>Longitude</th>\n",
       "    </tr>\n",
       "    <tr>\n",
       "      <th>Park Code</th>\n",
       "      <th></th>\n",
       "      <th></th>\n",
       "      <th></th>\n",
       "      <th></th>\n",
       "      <th></th>\n",
       "    </tr>\n",
       "  </thead>\n",
       "  <tbody>\n",
       "    <tr>\n",
       "      <th>ACAD</th>\n",
       "      <td>Acadia National Park</td>\n",
       "      <td>ME</td>\n",
       "      <td>47390</td>\n",
       "      <td>44.35</td>\n",
       "      <td>-68.21</td>\n",
       "    </tr>\n",
       "    <tr>\n",
       "      <th>ARCH</th>\n",
       "      <td>Arches National Park</td>\n",
       "      <td>UT</td>\n",
       "      <td>76519</td>\n",
       "      <td>38.68</td>\n",
       "      <td>-109.57</td>\n",
       "    </tr>\n",
       "    <tr>\n",
       "      <th>BADL</th>\n",
       "      <td>Badlands National Park</td>\n",
       "      <td>SD</td>\n",
       "      <td>242756</td>\n",
       "      <td>43.75</td>\n",
       "      <td>-102.50</td>\n",
       "    </tr>\n",
       "    <tr>\n",
       "      <th>BIBE</th>\n",
       "      <td>Big Bend National Park</td>\n",
       "      <td>TX</td>\n",
       "      <td>801163</td>\n",
       "      <td>29.25</td>\n",
       "      <td>-103.25</td>\n",
       "    </tr>\n",
       "    <tr>\n",
       "      <th>BISC</th>\n",
       "      <td>Biscayne National Park</td>\n",
       "      <td>FL</td>\n",
       "      <td>172924</td>\n",
       "      <td>25.65</td>\n",
       "      <td>-80.08</td>\n",
       "    </tr>\n",
       "  </tbody>\n",
       "</table>\n",
       "</div>"
      ],
      "text/plain": [
       "                        Park Name State   Acres  Latitude  Longitude\n",
       "Park Code                                                           \n",
       "ACAD         Acadia National Park    ME   47390     44.35     -68.21\n",
       "ARCH         Arches National Park    UT   76519     38.68    -109.57\n",
       "BADL       Badlands National Park    SD  242756     43.75    -102.50\n",
       "BIBE       Big Bend National Park    TX  801163     29.25    -103.25\n",
       "BISC       Biscayne National Park    FL  172924     25.65     -80.08"
      ]
     },
     "execution_count": 5,
     "metadata": {},
     "output_type": "execute_result"
    }
   ],
   "source": [
    "df.head()"
   ]
  },
  {
   "cell_type": "code",
   "execution_count": 9,
   "metadata": {},
   "outputs": [
    {
     "data": {
      "text/plain": [
       "Park Name    Acadia National Park\n",
       "State                          ME\n",
       "Acres                       47390\n",
       "Latitude                    44.35\n",
       "Longitude                  -68.21\n",
       "Name: ACAD, dtype: object"
      ]
     },
     "execution_count": 9,
     "metadata": {},
     "output_type": "execute_result"
    }
   ],
   "source": [
    "df.iloc[0]"
   ]
  },
  {
   "cell_type": "code",
   "execution_count": 10,
   "metadata": {},
   "outputs": [
    {
     "data": {
      "text/plain": [
       "Park Name    Acadia National Park\n",
       "State                          ME\n",
       "Acres                       47390\n",
       "Latitude                    44.35\n",
       "Longitude                  -68.21\n",
       "Name: ACAD, dtype: object"
      ]
     },
     "execution_count": 10,
     "metadata": {},
     "output_type": "execute_result"
    }
   ],
   "source": [
    "df.loc['ACAD']"
   ]
  },
  {
   "cell_type": "code",
   "execution_count": 12,
   "metadata": {},
   "outputs": [
    {
     "data": {
      "text/html": [
       "<div>\n",
       "<style scoped>\n",
       "    .dataframe tbody tr th:only-of-type {\n",
       "        vertical-align: middle;\n",
       "    }\n",
       "\n",
       "    .dataframe tbody tr th {\n",
       "        vertical-align: top;\n",
       "    }\n",
       "\n",
       "    .dataframe thead th {\n",
       "        text-align: right;\n",
       "    }\n",
       "</style>\n",
       "<table border=\"1\" class=\"dataframe\">\n",
       "  <thead>\n",
       "    <tr style=\"text-align: right;\">\n",
       "      <th></th>\n",
       "      <th>Park Name</th>\n",
       "      <th>State</th>\n",
       "      <th>Acres</th>\n",
       "      <th>Latitude</th>\n",
       "      <th>Longitude</th>\n",
       "    </tr>\n",
       "    <tr>\n",
       "      <th>Park Code</th>\n",
       "      <th></th>\n",
       "      <th></th>\n",
       "      <th></th>\n",
       "      <th></th>\n",
       "      <th></th>\n",
       "    </tr>\n",
       "  </thead>\n",
       "  <tbody>\n",
       "    <tr>\n",
       "      <th>ACAD</th>\n",
       "      <td>Acadia National Park</td>\n",
       "      <td>ME</td>\n",
       "      <td>47390</td>\n",
       "      <td>44.35</td>\n",
       "      <td>-68.21</td>\n",
       "    </tr>\n",
       "    <tr>\n",
       "      <th>BIBE</th>\n",
       "      <td>Big Bend National Park</td>\n",
       "      <td>TX</td>\n",
       "      <td>801163</td>\n",
       "      <td>29.25</td>\n",
       "      <td>-103.25</td>\n",
       "    </tr>\n",
       "    <tr>\n",
       "      <th>BISC</th>\n",
       "      <td>Biscayne National Park</td>\n",
       "      <td>FL</td>\n",
       "      <td>172924</td>\n",
       "      <td>25.65</td>\n",
       "      <td>-80.08</td>\n",
       "    </tr>\n",
       "  </tbody>\n",
       "</table>\n",
       "</div>"
      ],
      "text/plain": [
       "                        Park Name State   Acres  Latitude  Longitude\n",
       "Park Code                                                           \n",
       "ACAD         Acadia National Park    ME   47390     44.35     -68.21\n",
       "BIBE       Big Bend National Park    TX  801163     29.25    -103.25\n",
       "BISC       Biscayne National Park    FL  172924     25.65     -80.08"
      ]
     },
     "execution_count": 12,
     "metadata": {},
     "output_type": "execute_result"
    }
   ],
   "source": [
    "df.loc[['ACAD','BIBE','BISC']]"
   ]
  },
  {
   "cell_type": "markdown",
   "metadata": {},
   "source": [
    "```\n",
    "SELECT FROM table WHERE \n",
    "```"
   ]
  },
  {
   "cell_type": "code",
   "execution_count": 13,
   "metadata": {},
   "outputs": [
    {
     "data": {
      "text/html": [
       "<div>\n",
       "<style scoped>\n",
       "    .dataframe tbody tr th:only-of-type {\n",
       "        vertical-align: middle;\n",
       "    }\n",
       "\n",
       "    .dataframe tbody tr th {\n",
       "        vertical-align: top;\n",
       "    }\n",
       "\n",
       "    .dataframe thead th {\n",
       "        text-align: right;\n",
       "    }\n",
       "</style>\n",
       "<table border=\"1\" class=\"dataframe\">\n",
       "  <thead>\n",
       "    <tr style=\"text-align: right;\">\n",
       "      <th></th>\n",
       "      <th>Park Name</th>\n",
       "      <th>State</th>\n",
       "      <th>Acres</th>\n",
       "      <th>Latitude</th>\n",
       "      <th>Longitude</th>\n",
       "    </tr>\n",
       "    <tr>\n",
       "      <th>Park Code</th>\n",
       "      <th></th>\n",
       "      <th></th>\n",
       "      <th></th>\n",
       "      <th></th>\n",
       "      <th></th>\n",
       "    </tr>\n",
       "  </thead>\n",
       "  <tbody>\n",
       "    <tr>\n",
       "      <th>ACAD</th>\n",
       "      <td>Acadia National Park</td>\n",
       "      <td>ME</td>\n",
       "      <td>47390</td>\n",
       "      <td>44.35</td>\n",
       "      <td>-68.21</td>\n",
       "    </tr>\n",
       "    <tr>\n",
       "      <th>ARCH</th>\n",
       "      <td>Arches National Park</td>\n",
       "      <td>UT</td>\n",
       "      <td>76519</td>\n",
       "      <td>38.68</td>\n",
       "      <td>-109.57</td>\n",
       "    </tr>\n",
       "    <tr>\n",
       "      <th>BADL</th>\n",
       "      <td>Badlands National Park</td>\n",
       "      <td>SD</td>\n",
       "      <td>242756</td>\n",
       "      <td>43.75</td>\n",
       "      <td>-102.50</td>\n",
       "    </tr>\n",
       "  </tbody>\n",
       "</table>\n",
       "</div>"
      ],
      "text/plain": [
       "                        Park Name State   Acres  Latitude  Longitude\n",
       "Park Code                                                           \n",
       "ACAD         Acadia National Park    ME   47390     44.35     -68.21\n",
       "ARCH         Arches National Park    UT   76519     38.68    -109.57\n",
       "BADL       Badlands National Park    SD  242756     43.75    -102.50"
      ]
     },
     "execution_count": 13,
     "metadata": {},
     "output_type": "execute_result"
    }
   ],
   "source": [
    "df[:3]"
   ]
  },
  {
   "cell_type": "code",
   "execution_count": 14,
   "metadata": {},
   "outputs": [
    {
     "data": {
      "text/plain": [
       "Park Name    Zion National Park\n",
       "State                        UT\n",
       "Acres                    146598\n",
       "Latitude                   37.3\n",
       "Longitude               -113.05\n",
       "Name: ZION, dtype: object"
      ]
     },
     "execution_count": 14,
     "metadata": {},
     "output_type": "execute_result"
    }
   ],
   "source": [
    "df.iloc[-1]"
   ]
  },
  {
   "cell_type": "code",
   "execution_count": 15,
   "metadata": {},
   "outputs": [
    {
     "data": {
      "text/plain": [
       "Park Code\n",
       "ACAD            ME\n",
       "ARCH            UT\n",
       "BADL            SD\n",
       "BIBE            TX\n",
       "BISC            FL\n",
       "BLCA            CO\n",
       "BRCA            UT\n",
       "CANY            UT\n",
       "CARE            UT\n",
       "CAVE            NM\n",
       "CHIS            CA\n",
       "CONG            SC\n",
       "CRLA            OR\n",
       "CUVA            OH\n",
       "DENA            AK\n",
       "DEVA        CA, NV\n",
       "DRTO            FL\n",
       "EVER            FL\n",
       "GAAR            AK\n",
       "GLAC            MT\n",
       "GLBA            AK\n",
       "GRBA            NV\n",
       "GRCA            AZ\n",
       "GRSA            CO\n",
       "GRSM        TN, NC\n",
       "GRTE            WY\n",
       "GUMO            TX\n",
       "HALE            HI\n",
       "HAVO            HI\n",
       "HOSP            AR\n",
       "ISRO            MI\n",
       "JOTR            CA\n",
       "KATM            AK\n",
       "KEFJ            AK\n",
       "KOVA            AK\n",
       "LACL            AK\n",
       "LAVO            CA\n",
       "MACA            KY\n",
       "MEVE            CO\n",
       "MORA            WA\n",
       "NOCA            WA\n",
       "OLYM            WA\n",
       "PEFO            AZ\n",
       "PINN            CA\n",
       "REDW            CA\n",
       "ROMO            CO\n",
       "SAGU            AZ\n",
       "SEKI            CA\n",
       "SHEN            VA\n",
       "THRO            ND\n",
       "VOYA            MN\n",
       "WICA            SD\n",
       "WRST            AK\n",
       "YELL    WY, MT, ID\n",
       "YOSE            CA\n",
       "ZION            UT\n",
       "Name: State, dtype: object"
      ]
     },
     "execution_count": 15,
     "metadata": {},
     "output_type": "execute_result"
    }
   ],
   "source": [
    "df['State']"
   ]
  },
  {
   "cell_type": "code",
   "execution_count": 16,
   "metadata": {},
   "outputs": [
    {
     "data": {
      "text/plain": [
       "Park Code\n",
       "ACAD      47390\n",
       "ARCH      76519\n",
       "BADL     242756\n",
       "BIBE     801163\n",
       "BISC     172924\n",
       "BLCA      32950\n",
       "BRCA      35835\n",
       "CANY     337598\n",
       "CARE     241904\n",
       "CAVE      46766\n",
       "CHIS     249561\n",
       "CONG      26546\n",
       "CRLA     183224\n",
       "CUVA      32950\n",
       "DENA    3372402\n",
       "DEVA    4740912\n",
       "DRTO      64701\n",
       "EVER    1508538\n",
       "GAAR    7523898\n",
       "GLAC    1013572\n",
       "GLBA    3224840\n",
       "GRBA      77180\n",
       "GRCA    1217403\n",
       "GRSA      42984\n",
       "GRSM     521490\n",
       "GRTE     309995\n",
       "GUMO      86416\n",
       "HALE      29094\n",
       "HAVO     323431\n",
       "HOSP       5550\n",
       "ISRO     571790\n",
       "JOTR     789745\n",
       "KATM    3674530\n",
       "KEFJ     669983\n",
       "KOVA    1750717\n",
       "LACL    2619733\n",
       "LAVO     106372\n",
       "MACA      52830\n",
       "MEVE      52122\n",
       "MORA     235625\n",
       "NOCA     504781\n",
       "OLYM     922651\n",
       "PEFO      93533\n",
       "PINN      26606\n",
       "REDW     112512\n",
       "ROMO     265828\n",
       "SAGU      91440\n",
       "SEKI     865952\n",
       "SHEN     199045\n",
       "THRO      70447\n",
       "VOYA     218200\n",
       "WICA      28295\n",
       "WRST    8323148\n",
       "YELL    2219791\n",
       "YOSE     761266\n",
       "ZION     146598\n",
       "Name: Acres, dtype: int64"
      ]
     },
     "execution_count": 16,
     "metadata": {},
     "output_type": "execute_result"
    }
   ],
   "source": [
    "df['Acres']"
   ]
  },
  {
   "cell_type": "code",
   "execution_count": 17,
   "metadata": {},
   "outputs": [
    {
     "data": {
      "text/plain": [
       "Park Code\n",
       "ACAD      47390\n",
       "ARCH      76519\n",
       "BADL     242756\n",
       "BIBE     801163\n",
       "BISC     172924\n",
       "BLCA      32950\n",
       "BRCA      35835\n",
       "CANY     337598\n",
       "CARE     241904\n",
       "CAVE      46766\n",
       "CHIS     249561\n",
       "CONG      26546\n",
       "CRLA     183224\n",
       "CUVA      32950\n",
       "DENA    3372402\n",
       "DEVA    4740912\n",
       "DRTO      64701\n",
       "EVER    1508538\n",
       "GAAR    7523898\n",
       "GLAC    1013572\n",
       "GLBA    3224840\n",
       "GRBA      77180\n",
       "GRCA    1217403\n",
       "GRSA      42984\n",
       "GRSM     521490\n",
       "GRTE     309995\n",
       "GUMO      86416\n",
       "HALE      29094\n",
       "HAVO     323431\n",
       "HOSP       5550\n",
       "ISRO     571790\n",
       "JOTR     789745\n",
       "KATM    3674530\n",
       "KEFJ     669983\n",
       "KOVA    1750717\n",
       "LACL    2619733\n",
       "LAVO     106372\n",
       "MACA      52830\n",
       "MEVE      52122\n",
       "MORA     235625\n",
       "NOCA     504781\n",
       "OLYM     922651\n",
       "PEFO      93533\n",
       "PINN      26606\n",
       "REDW     112512\n",
       "ROMO     265828\n",
       "SAGU      91440\n",
       "SEKI     865952\n",
       "SHEN     199045\n",
       "THRO      70447\n",
       "VOYA     218200\n",
       "WICA      28295\n",
       "WRST    8323148\n",
       "YELL    2219791\n",
       "YOSE     761266\n",
       "ZION     146598\n",
       "Name: Acres, dtype: int64"
      ]
     },
     "execution_count": 17,
     "metadata": {},
     "output_type": "execute_result"
    }
   ],
   "source": [
    "df.Acres"
   ]
  },
  {
   "cell_type": "code",
   "execution_count": 18,
   "metadata": {},
   "outputs": [
    {
     "data": {
      "text/plain": [
       "51964032"
      ]
     },
     "execution_count": 18,
     "metadata": {},
     "output_type": "execute_result"
    }
   ],
   "source": [
    "df.Acres.sum()"
   ]
  },
  {
   "cell_type": "code",
   "execution_count": 19,
   "metadata": {},
   "outputs": [
    {
     "data": {
      "text/plain": [
       "927929.1428571428"
      ]
     },
     "execution_count": 19,
     "metadata": {},
     "output_type": "execute_result"
    }
   ],
   "source": [
    "df.Acres.mean()"
   ]
  },
  {
   "cell_type": "code",
   "execution_count": 20,
   "metadata": {},
   "outputs": [
    {
     "data": {
      "text/plain": [
       "1709258.309313917"
      ]
     },
     "execution_count": 20,
     "metadata": {},
     "output_type": "execute_result"
    }
   ],
   "source": [
    "df.Acres.std()"
   ]
  },
  {
   "cell_type": "code",
   "execution_count": 21,
   "metadata": {},
   "outputs": [
    {
     "data": {
      "text/plain": [
       "8323148"
      ]
     },
     "execution_count": 21,
     "metadata": {},
     "output_type": "execute_result"
    }
   ],
   "source": [
    "df['Acres'].max()"
   ]
  },
  {
   "cell_type": "code",
   "execution_count": 22,
   "metadata": {},
   "outputs": [
    {
     "data": {
      "text/plain": [
       "5550"
      ]
     },
     "execution_count": 22,
     "metadata": {},
     "output_type": "execute_result"
    }
   ],
   "source": [
    "df['Acres'].min()"
   ]
  },
  {
   "cell_type": "code",
   "execution_count": 23,
   "metadata": {},
   "outputs": [
    {
     "data": {
      "text/html": [
       "<div>\n",
       "<style scoped>\n",
       "    .dataframe tbody tr th:only-of-type {\n",
       "        vertical-align: middle;\n",
       "    }\n",
       "\n",
       "    .dataframe tbody tr th {\n",
       "        vertical-align: top;\n",
       "    }\n",
       "\n",
       "    .dataframe thead th {\n",
       "        text-align: right;\n",
       "    }\n",
       "</style>\n",
       "<table border=\"1\" class=\"dataframe\">\n",
       "  <thead>\n",
       "    <tr style=\"text-align: right;\">\n",
       "      <th></th>\n",
       "      <th>Park Name</th>\n",
       "      <th>State</th>\n",
       "      <th>Acres</th>\n",
       "      <th>Latitude</th>\n",
       "      <th>Longitude</th>\n",
       "    </tr>\n",
       "    <tr>\n",
       "      <th>Park Code</th>\n",
       "      <th></th>\n",
       "      <th></th>\n",
       "      <th></th>\n",
       "      <th></th>\n",
       "      <th></th>\n",
       "    </tr>\n",
       "  </thead>\n",
       "  <tbody>\n",
       "    <tr>\n",
       "      <th>ARCH</th>\n",
       "      <td>Arches National Park</td>\n",
       "      <td>UT</td>\n",
       "      <td>76519</td>\n",
       "      <td>38.68</td>\n",
       "      <td>-109.57</td>\n",
       "    </tr>\n",
       "    <tr>\n",
       "      <th>BRCA</th>\n",
       "      <td>Bryce Canyon National Park</td>\n",
       "      <td>UT</td>\n",
       "      <td>35835</td>\n",
       "      <td>37.57</td>\n",
       "      <td>-112.18</td>\n",
       "    </tr>\n",
       "    <tr>\n",
       "      <th>CANY</th>\n",
       "      <td>Canyonlands National Park</td>\n",
       "      <td>UT</td>\n",
       "      <td>337598</td>\n",
       "      <td>38.20</td>\n",
       "      <td>-109.93</td>\n",
       "    </tr>\n",
       "    <tr>\n",
       "      <th>CARE</th>\n",
       "      <td>Capitol Reef National Park</td>\n",
       "      <td>UT</td>\n",
       "      <td>241904</td>\n",
       "      <td>38.20</td>\n",
       "      <td>-111.17</td>\n",
       "    </tr>\n",
       "    <tr>\n",
       "      <th>ZION</th>\n",
       "      <td>Zion National Park</td>\n",
       "      <td>UT</td>\n",
       "      <td>146598</td>\n",
       "      <td>37.30</td>\n",
       "      <td>-113.05</td>\n",
       "    </tr>\n",
       "  </tbody>\n",
       "</table>\n",
       "</div>"
      ],
      "text/plain": [
       "                            Park Name State   Acres  Latitude  Longitude\n",
       "Park Code                                                               \n",
       "ARCH             Arches National Park    UT   76519     38.68    -109.57\n",
       "BRCA       Bryce Canyon National Park    UT   35835     37.57    -112.18\n",
       "CANY        Canyonlands National Park    UT  337598     38.20    -109.93\n",
       "CARE       Capitol Reef National Park    UT  241904     38.20    -111.17\n",
       "ZION               Zion National Park    UT  146598     37.30    -113.05"
      ]
     },
     "execution_count": 23,
     "metadata": {},
     "output_type": "execute_result"
    }
   ],
   "source": [
    "df[df.State =='UT']"
   ]
  },
  {
   "cell_type": "code",
   "execution_count": 25,
   "metadata": {},
   "outputs": [
    {
     "data": {
      "text/plain": [
       "Park Code\n",
       "ACAD    False\n",
       "ARCH    False\n",
       "BADL    False\n",
       "BIBE    False\n",
       "BISC    False\n",
       "BLCA    False\n",
       "BRCA    False\n",
       "CANY    False\n",
       "CARE    False\n",
       "CAVE    False\n",
       "CHIS    False\n",
       "CONG    False\n",
       "CRLA    False\n",
       "CUVA    False\n",
       "DENA     True\n",
       "DEVA    False\n",
       "DRTO    False\n",
       "EVER    False\n",
       "GAAR     True\n",
       "GLAC    False\n",
       "GLBA    False\n",
       "GRBA    False\n",
       "GRCA    False\n",
       "GRSA    False\n",
       "GRSM    False\n",
       "GRTE    False\n",
       "GUMO    False\n",
       "HALE    False\n",
       "HAVO    False\n",
       "HOSP    False\n",
       "ISRO    False\n",
       "JOTR    False\n",
       "KATM    False\n",
       "KEFJ    False\n",
       "KOVA     True\n",
       "LACL     True\n",
       "LAVO    False\n",
       "MACA    False\n",
       "MEVE    False\n",
       "MORA    False\n",
       "NOCA    False\n",
       "OLYM    False\n",
       "PEFO    False\n",
       "PINN    False\n",
       "REDW    False\n",
       "ROMO    False\n",
       "SAGU    False\n",
       "SEKI    False\n",
       "SHEN    False\n",
       "THRO    False\n",
       "VOYA    False\n",
       "WICA    False\n",
       "WRST     True\n",
       "YELL    False\n",
       "YOSE    False\n",
       "ZION    False\n",
       "Name: Latitude, dtype: bool"
      ]
     },
     "execution_count": 25,
     "metadata": {},
     "output_type": "execute_result"
    }
   ],
   "source": [
    "df.Latitude > 60"
   ]
  },
  {
   "cell_type": "code",
   "execution_count": 26,
   "metadata": {},
   "outputs": [
    {
     "data": {
      "text/html": [
       "<div>\n",
       "<style scoped>\n",
       "    .dataframe tbody tr th:only-of-type {\n",
       "        vertical-align: middle;\n",
       "    }\n",
       "\n",
       "    .dataframe tbody tr th {\n",
       "        vertical-align: top;\n",
       "    }\n",
       "\n",
       "    .dataframe thead th {\n",
       "        text-align: right;\n",
       "    }\n",
       "</style>\n",
       "<table border=\"1\" class=\"dataframe\">\n",
       "  <thead>\n",
       "    <tr style=\"text-align: right;\">\n",
       "      <th></th>\n",
       "      <th>Park Name</th>\n",
       "      <th>State</th>\n",
       "      <th>Acres</th>\n",
       "      <th>Latitude</th>\n",
       "      <th>Longitude</th>\n",
       "    </tr>\n",
       "    <tr>\n",
       "      <th>Park Code</th>\n",
       "      <th></th>\n",
       "      <th></th>\n",
       "      <th></th>\n",
       "      <th></th>\n",
       "      <th></th>\n",
       "    </tr>\n",
       "  </thead>\n",
       "  <tbody>\n",
       "    <tr>\n",
       "      <th>DENA</th>\n",
       "      <td>Denali National Park and Preserve</td>\n",
       "      <td>AK</td>\n",
       "      <td>3372402</td>\n",
       "      <td>63.33</td>\n",
       "      <td>-150.50</td>\n",
       "    </tr>\n",
       "    <tr>\n",
       "      <th>GAAR</th>\n",
       "      <td>Gates Of The Arctic National Park and Preserve</td>\n",
       "      <td>AK</td>\n",
       "      <td>7523898</td>\n",
       "      <td>67.78</td>\n",
       "      <td>-153.30</td>\n",
       "    </tr>\n",
       "    <tr>\n",
       "      <th>KOVA</th>\n",
       "      <td>Kobuk Valley National Park</td>\n",
       "      <td>AK</td>\n",
       "      <td>1750717</td>\n",
       "      <td>67.55</td>\n",
       "      <td>-159.28</td>\n",
       "    </tr>\n",
       "    <tr>\n",
       "      <th>LACL</th>\n",
       "      <td>Lake Clark National Park and Preserve</td>\n",
       "      <td>AK</td>\n",
       "      <td>2619733</td>\n",
       "      <td>60.97</td>\n",
       "      <td>-153.42</td>\n",
       "    </tr>\n",
       "    <tr>\n",
       "      <th>WRST</th>\n",
       "      <td>Wrangell - St Elias National Park and Preserve</td>\n",
       "      <td>AK</td>\n",
       "      <td>8323148</td>\n",
       "      <td>61.00</td>\n",
       "      <td>-142.00</td>\n",
       "    </tr>\n",
       "  </tbody>\n",
       "</table>\n",
       "</div>"
      ],
      "text/plain": [
       "                                                Park Name State    Acres  \\\n",
       "Park Code                                                                  \n",
       "DENA                    Denali National Park and Preserve    AK  3372402   \n",
       "GAAR       Gates Of The Arctic National Park and Preserve    AK  7523898   \n",
       "KOVA                           Kobuk Valley National Park    AK  1750717   \n",
       "LACL                Lake Clark National Park and Preserve    AK  2619733   \n",
       "WRST       Wrangell - St Elias National Park and Preserve    AK  8323148   \n",
       "\n",
       "           Latitude  Longitude  \n",
       "Park Code                       \n",
       "DENA          63.33    -150.50  \n",
       "GAAR          67.78    -153.30  \n",
       "KOVA          67.55    -159.28  \n",
       "LACL          60.97    -153.42  \n",
       "WRST          61.00    -142.00  "
      ]
     },
     "execution_count": 26,
     "metadata": {},
     "output_type": "execute_result"
    }
   ],
   "source": [
    "df[df.Latitude > 60]"
   ]
  },
  {
   "cell_type": "code",
   "execution_count": 27,
   "metadata": {},
   "outputs": [
    {
     "data": {
      "text/html": [
       "<div>\n",
       "<style scoped>\n",
       "    .dataframe tbody tr th:only-of-type {\n",
       "        vertical-align: middle;\n",
       "    }\n",
       "\n",
       "    .dataframe tbody tr th {\n",
       "        vertical-align: top;\n",
       "    }\n",
       "\n",
       "    .dataframe thead th {\n",
       "        text-align: right;\n",
       "    }\n",
       "</style>\n",
       "<table border=\"1\" class=\"dataframe\">\n",
       "  <thead>\n",
       "    <tr style=\"text-align: right;\">\n",
       "      <th></th>\n",
       "      <th>Park Name</th>\n",
       "      <th>State</th>\n",
       "      <th>Acres</th>\n",
       "      <th>Latitude</th>\n",
       "      <th>Longitude</th>\n",
       "    </tr>\n",
       "    <tr>\n",
       "      <th>Park Code</th>\n",
       "      <th></th>\n",
       "      <th></th>\n",
       "      <th></th>\n",
       "      <th></th>\n",
       "      <th></th>\n",
       "    </tr>\n",
       "  </thead>\n",
       "  <tbody>\n",
       "    <tr>\n",
       "      <th>GAAR</th>\n",
       "      <td>Gates Of The Arctic National Park and Preserve</td>\n",
       "      <td>AK</td>\n",
       "      <td>7523898</td>\n",
       "      <td>67.78</td>\n",
       "      <td>-153.30</td>\n",
       "    </tr>\n",
       "    <tr>\n",
       "      <th>KOVA</th>\n",
       "      <td>Kobuk Valley National Park</td>\n",
       "      <td>AK</td>\n",
       "      <td>1750717</td>\n",
       "      <td>67.55</td>\n",
       "      <td>-159.28</td>\n",
       "    </tr>\n",
       "  </tbody>\n",
       "</table>\n",
       "</div>"
      ],
      "text/plain": [
       "                                                Park Name State    Acres  \\\n",
       "Park Code                                                                  \n",
       "GAAR       Gates Of The Arctic National Park and Preserve    AK  7523898   \n",
       "KOVA                           Kobuk Valley National Park    AK  1750717   \n",
       "\n",
       "           Latitude  Longitude  \n",
       "Park Code                       \n",
       "GAAR          67.78    -153.30  \n",
       "KOVA          67.55    -159.28  "
      ]
     },
     "execution_count": 27,
     "metadata": {},
     "output_type": "execute_result"
    }
   ],
   "source": [
    "df[df.Latitude > 65]"
   ]
  },
  {
   "cell_type": "code",
   "execution_count": 28,
   "metadata": {},
   "outputs": [
    {
     "data": {
      "text/plain": [
       "8323148"
      ]
     },
     "execution_count": 28,
     "metadata": {},
     "output_type": "execute_result"
    }
   ],
   "source": [
    "df.Acres.max()"
   ]
  },
  {
   "cell_type": "code",
   "execution_count": 30,
   "metadata": {},
   "outputs": [
    {
     "data": {
      "text/plain": [
       "Park Code\n",
       "ACAD    False\n",
       "ARCH    False\n",
       "BADL    False\n",
       "BIBE    False\n",
       "BISC    False\n",
       "BLCA    False\n",
       "BRCA    False\n",
       "CANY    False\n",
       "CARE    False\n",
       "CAVE    False\n",
       "CHIS    False\n",
       "CONG    False\n",
       "CRLA    False\n",
       "CUVA    False\n",
       "DENA    False\n",
       "DEVA    False\n",
       "DRTO    False\n",
       "EVER    False\n",
       "GAAR    False\n",
       "GLAC    False\n",
       "GLBA    False\n",
       "GRBA    False\n",
       "GRCA    False\n",
       "GRSA    False\n",
       "GRSM    False\n",
       "GRTE    False\n",
       "GUMO    False\n",
       "HALE    False\n",
       "HAVO    False\n",
       "HOSP    False\n",
       "ISRO    False\n",
       "JOTR    False\n",
       "KATM    False\n",
       "KEFJ    False\n",
       "KOVA    False\n",
       "LACL    False\n",
       "LAVO    False\n",
       "MACA    False\n",
       "MEVE    False\n",
       "MORA    False\n",
       "NOCA    False\n",
       "OLYM    False\n",
       "PEFO    False\n",
       "PINN    False\n",
       "REDW    False\n",
       "ROMO    False\n",
       "SAGU    False\n",
       "SEKI    False\n",
       "SHEN    False\n",
       "THRO    False\n",
       "VOYA    False\n",
       "WICA    False\n",
       "WRST     True\n",
       "YELL    False\n",
       "YOSE    False\n",
       "ZION    False\n",
       "Name: Acres, dtype: bool"
      ]
     },
     "execution_count": 30,
     "metadata": {},
     "output_type": "execute_result"
    }
   ],
   "source": [
    "df.Acres == df.Acres.max()"
   ]
  },
  {
   "cell_type": "code",
   "execution_count": null,
   "metadata": {},
   "outputs": [],
   "source": []
  }
 ],
 "metadata": {
  "kernelspec": {
   "display_name": "Python 3",
   "language": "python",
   "name": "python3"
  },
  "language_info": {
   "codemirror_mode": {
    "name": "ipython",
    "version": 3
   },
   "file_extension": ".py",
   "mimetype": "text/x-python",
   "name": "python",
   "nbconvert_exporter": "python",
   "pygments_lexer": "ipython3",
   "version": "3.5.4rc1"
  }
 },
 "nbformat": 4,
 "nbformat_minor": 2
}
